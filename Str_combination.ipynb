{
 "cells": [
  {
   "cell_type": "markdown",
   "id": "418cbd75",
   "metadata": {},
   "source": [
    "# create a function, which takes string as argument, create all combinations\n",
    "\n",
    "Ex: abcdefg\n",
    "\n",
    "ans should be:\n",
    "\n",
    "a, ab, abc, abcd, abcde, abcdef, abcdefg,\n",
    "\n",
    "b, bc, bcd, bcde, bcdef, bcdefg,\n",
    "\n",
    "c, cd, cde, cdef, cdefg, \n",
    "\n",
    "d, de, def, defg, \n",
    "\n",
    "e, ef, efg,\n",
    "\n",
    "f, fg\n",
    "\n",
    "g"
   ]
  },
  {
   "cell_type": "code",
   "execution_count": 326,
   "id": "74b151e0",
   "metadata": {},
   "outputs": [
    {
     "name": "stdout",
     "output_type": "stream",
     "text": [
      "abcdefg\n",
      "bcdefg\n",
      "cdefg\n",
      "defg\n",
      "efg\n",
      "fg\n",
      "g\n",
      "\n"
     ]
    }
   ],
   "source": [
    "m = \"abcdefg\"\n",
    "n = len(m)\n",
    "for i in range(n+1):\n",
    "        print(m[i:])"
   ]
  }
 ],
 "metadata": {
  "kernelspec": {
   "display_name": "Python 3 (ipykernel)",
   "language": "python",
   "name": "python3"
  },
  "language_info": {
   "codemirror_mode": {
    "name": "ipython",
    "version": 3
   },
   "file_extension": ".py",
   "mimetype": "text/x-python",
   "name": "python",
   "nbconvert_exporter": "python",
   "pygments_lexer": "ipython3",
   "version": "3.9.13"
  }
 },
 "nbformat": 4,
 "nbformat_minor": 5
}
