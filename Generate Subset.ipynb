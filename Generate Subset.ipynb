{
 "cells": [
  {
   "cell_type": "markdown",
   "id": "48b336eb",
   "metadata": {},
   "source": [
    "# Write a Python function that generates all possible subsets of a given list recursively.\n",
    "For example, if the input list is [1, 2, 3],\n",
    "the output should be [], [1], [2], [3], [1, 2], [1, 3], [2, 3], [1, 2, 3]"
   ]
  },
  {
   "cell_type": "code",
   "execution_count": 113,
   "id": "909bd316",
   "metadata": {},
   "outputs": [],
   "source": [
    "def gen_subset(inp_list):\n",
    "    if len(inp_list) == 0:\n",
    "        return [[]]\n",
    "    else:\n",
    "        subsets = gen_subset(inp_list[1:])\n",
    "        return subsets + [[inp_list[0]] + subset for subset in subsets]"
   ]
  },
  {
   "cell_type": "code",
   "execution_count": 115,
   "id": "c4e371dd",
   "metadata": {},
   "outputs": [
    {
     "data": {
      "text/plain": [
       "[[], [3], [2], [2, 3], [1], [1, 3], [1, 2], [1, 2, 3]]"
      ]
     },
     "execution_count": 115,
     "metadata": {},
     "output_type": "execute_result"
    }
   ],
   "source": [
    "gen_subset([1,2,3])"
   ]
  }
 ],
 "metadata": {
  "kernelspec": {
   "display_name": "Python 3 (ipykernel)",
   "language": "python",
   "name": "python3"
  },
  "language_info": {
   "codemirror_mode": {
    "name": "ipython",
    "version": 3
   },
   "file_extension": ".py",
   "mimetype": "text/x-python",
   "name": "python",
   "nbconvert_exporter": "python",
   "pygments_lexer": "ipython3",
   "version": "3.9.13"
  }
 },
 "nbformat": 4,
 "nbformat_minor": 5
}
